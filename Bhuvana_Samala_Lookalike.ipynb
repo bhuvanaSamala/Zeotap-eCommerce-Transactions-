{
  "nbformat": 4,
  "nbformat_minor": 0,
  "metadata": {
    "colab": {
      "provenance": []
    },
    "kernelspec": {
      "name": "python3",
      "display_name": "Python 3"
    },
    "language_info": {
      "name": "python"
    }
  },
  "cells": [
    {
      "cell_type": "code",
      "execution_count": 15,
      "metadata": {
        "id": "PKaYiw-2a7QJ"
      },
      "outputs": [],
      "source": [
        "import pandas as pd\n",
        "from sklearn.feature_extraction.text import TfidfVectorizer\n",
        "from sklearn.metrics.pairwise import cosine_similarity\n",
        "from sklearn.preprocessing import MinMaxScaler\n",
        "\n",
        "# Load datasets\n",
        "customers = pd.read_csv('Customers.csv')\n",
        "transactions = pd.read_csv('Transactions.csv')\n",
        "products = pd.read_csv('Products.csv')\n",
        "\n",
        "# Merge datasets to get transaction details with customer and product information\n",
        "merged_data = transactions.merge(products, on='ProductID').merge(customers, on='CustomerID')"
      ]
    },
    {
      "cell_type": "markdown",
      "source": [
        "Feature Engineering"
      ],
      "metadata": {
        "id": "JuV3PYTtbAuB"
      }
    },
    {
      "cell_type": "code",
      "source": [
        "\n",
        "# Aggregate transaction data for each customer\n",
        "customer_features = merged_data.groupby('CustomerID').agg({\n",
        "    'TotalValue': 'sum',\n",
        "    'Quantity': 'sum',\n",
        "    'Category': lambda x: ' '.join(x)  # Combine product categories purchased\n",
        "}).reset_index()"
      ],
      "metadata": {
        "id": "ta4QRO6IbDEL"
      },
      "execution_count": 16,
      "outputs": []
    },
    {
      "cell_type": "code",
      "source": [
        "# Add customer profile information\n",
        "customer_profiles = customers.merge(customer_features, on='CustomerID')\n"
      ],
      "metadata": {
        "id": "uT6zDCohbFib"
      },
      "execution_count": 17,
      "outputs": []
    },
    {
      "cell_type": "markdown",
      "source": [
        "\n",
        "# Step 2: Vectorization\n",
        "# Use TF-IDF to vectorize the product categories\n",
        "\n"
      ],
      "metadata": {
        "id": "suSd_SYFbW1b"
      }
    },
    {
      "cell_type": "code",
      "source": [
        "tfidf = TfidfVectorizer()\n",
        "category_matrix = tfidf.fit_transform(customer_profiles['Category'])"
      ],
      "metadata": {
        "id": "Ru-tIR6tbZxj"
      },
      "execution_count": 18,
      "outputs": []
    },
    {
      "cell_type": "code",
      "source": [
        "# Combine numerical features (TotalValue, Quantity) and the TF-IDF matrix\n",
        "scaler = MinMaxScaler()\n",
        "numerical_features = scaler.fit_transform(customer_profiles[['TotalValue', 'Quantity']])\n",
        "combined_features = pd.concat(\n",
        "    [pd.DataFrame(numerical_features, columns=['Scaled_TotalValue', 'Scaled_Quantity']),\n",
        "     pd.DataFrame(category_matrix.toarray())], axis=1\n",
        ")\n",
        "\n"
      ],
      "metadata": {
        "id": "iAAwshZ-bI24"
      },
      "execution_count": 19,
      "outputs": []
    },
    {
      "cell_type": "markdown",
      "source": [
        "Calculate Similarity Scores"
      ],
      "metadata": {
        "id": "5YOuJ1M2eU2Z"
      }
    },
    {
      "cell_type": "code",
      "source": [
        "similarity_matrix = cosine_similarity(combined_features)\n",
        "print(similarity_matrix)\n",
        "\n"
      ],
      "metadata": {
        "id": "lpnz2J_JbLtA",
        "colab": {
          "base_uri": "https://localhost:8080/"
        },
        "outputId": "a1f6c1ee-bc27-40b8-b331-7409febef134"
      },
      "execution_count": 20,
      "outputs": [
        {
          "output_type": "stream",
          "name": "stdout",
          "text": [
            "[[1.         0.42148609 0.7058767  ... 0.58889663 0.8500374  0.6878206 ]\n",
            " [0.42148609 1.         0.917673   ... 0.42456906 0.69687393 0.82660654]\n",
            " [0.7058767  0.917673   1.         ... 0.44278997 0.91281466 0.828748  ]\n",
            " ...\n",
            " [0.58889663 0.42456906 0.44278997 ... 1.         0.40903885 0.6886093 ]\n",
            " [0.8500374  0.69687393 0.91281466 ... 0.40903885 1.         0.65115796]\n",
            " [0.6878206  0.82660654 0.828748   ... 0.6886093  0.65115796 1.        ]]\n"
          ]
        }
      ]
    },
    {
      "cell_type": "markdown",
      "source": [
        "Generate Lookalikes\n"
      ],
      "metadata": {
        "id": "3XB9EQQrbd9t"
      }
    },
    {
      "cell_type": "code",
      "source": [
        "def get_top_3_lookalikes(customer_index, similarity_matrix, customer_ids):\n",
        "    # Sort by similarity score, excluding the customer itself\n",
        "    similar_indices = similarity_matrix[customer_index].argsort()[::-1][1:4]\n",
        "    return [(customer_ids[i], round(similarity_matrix[customer_index][i], 4)) for i in similar_indices]\n",
        "\n",
        "# Generate lookalike recommendations for customers C0001 - C0020\n",
        "customer_ids = customer_profiles['CustomerID'].tolist()\n",
        "lookalike_results = {}\n",
        "\n",
        "for i in range(20):  # First 20 customers (C0001 - C0020)\n",
        "    lookalike_results[customer_ids[i]] = get_top_3_lookalikes(i, similarity_matrix, customer_ids)\n",
        "\n",
        "# Save lookalike results to a CSV file in the required format\n",
        "lookalike_map = []\n",
        "for cust_id, lookalikes in lookalike_results.items():\n",
        "    lookalike_map.append({\n",
        "        'CustomerID': cust_id,\n",
        "        'Lookalikes': str(lookalikes)  # Convert list of tuples to string\n",
        "    })\n",
        "\n",
        "lookalike_df = pd.DataFrame(lookalike_map)\n",
        "lookalike_df.to_csv('Bhuvana_Samala_Lookalike.csv', index=False)\n",
        "\n",
        "print(\"Lookalike recommendations saved successfully!\")"
      ],
      "metadata": {
        "id": "2f0WNiJsbeQv",
        "colab": {
          "base_uri": "https://localhost:8080/"
        },
        "outputId": "f44962ef-950a-452a-c565-7959d640da21"
      },
      "execution_count": 21,
      "outputs": [
        {
          "output_type": "stream",
          "name": "stdout",
          "text": [
            "Lookalike recommendations saved successfully!\n"
          ]
        }
      ]
    }
  ]
}